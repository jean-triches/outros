{
  "nbformat": 4,
  "nbformat_minor": 0,
  "metadata": {
    "colab": {
      "name": "Orange_StRita_12_11_20.ipynb",
      "provenance": [],
      "collapsed_sections": [],
      "authorship_tag": "ABX9TyPobTpSELBCBLEXTCPb32yW",
      "include_colab_link": true
    },
    "kernelspec": {
      "name": "python3",
      "display_name": "Python 3"
    }
  },
  "cells": [
    {
      "cell_type": "markdown",
      "metadata": {
        "id": "view-in-github",
        "colab_type": "text"
      },
      "source": [
        "<a href=\"https://colab.research.google.com/github/jean-triches/outros/blob/main/Orange_StRita_12_11_20.ipynb\" target=\"_parent\"><img src=\"https://colab.research.google.com/assets/colab-badge.svg\" alt=\"Open In Colab\"/></a>"
      ]
    },
    {
      "cell_type": "markdown",
      "metadata": {
        "id": "olCBi-IPo6HS"
      },
      "source": [
        "## **Machine Learning sem código - Orange Data Mining**\n",
        "\n",
        "\n"
      ]
    },
    {
      "cell_type": "markdown",
      "metadata": {
        "id": "hALDhXlepJr-"
      },
      "source": [
        "Orange Data Mining é uma ferramenta open source que permite criar todo fluxo de trabalho de um projeto de data mining, sem necessidade de código. Ideal para quem quer praticar machine learning mas não pretende aprender a codificar ou para iniciantes que pretendem aplicar alguns conceitos, bem como para experts no assunto."
      ]
    },
    {
      "cell_type": "markdown",
      "metadata": {
        "id": "mjbZWjL7pNA8"
      },
      "source": [
        "https://orange.biolab.si/\n",
        "\n",
        "\n",
        "https://download.biolab.si/download/files/Orange3-3.27.1-Miniconda-x86_64.exe"
      ]
    },
    {
      "cell_type": "markdown",
      "metadata": {
        "id": "cwSdYikapUn1"
      },
      "source": [
        "**Conjunto de Dados:**\n",
        "\n",
        "O conjunto de dados que será utilizado, simula as características de clientes que pediram empréstimo para um banco e tiveram ou não a solicitação aprovada. \n"
      ]
    },
    {
      "cell_type": "markdown",
      "metadata": {
        "id": "hUlVlRyzpbPK"
      },
      "source": [
        "**Missão:**\n",
        "Nossa missão é criar um modelo preditivo que determine quando um empréstimo deve ser concedido ou não.\n"
      ]
    },
    {
      "cell_type": "markdown",
      "metadata": {
        "id": "dPgkJyonvnId"
      },
      "source": [
        "**DOWNLOAD DOS DADOS:**\n",
        "\n",
        "\n",
        "https://drive.google.com/drive/folders/1YoBeCf03oEosuZtItONO1iXkP1wtZn88?usp=shari\n",
        "\n",
        "train.csv\n",
        "\n",
        "test.csv\n",
        "\n",
        "sample.csv\n"
      ]
    },
    {
      "cell_type": "markdown",
      "metadata": {
        "id": "ICPEbsxauC38"
      },
      "source": [
        "```\n",
        "LOAN_ID - CODIGO DO EMPRESTIMO\n",
        "\n",
        "GENDER - MASCULINO OU FEMININO\n",
        "\n",
        "MARRIED - CASADO OU SOLTEIRO\n",
        "\n",
        "DEPENDENTS - NUMERO DE DEPENDENTES\n",
        "\n",
        "EDUCATION - GRADUAÇÃO OU NÃO\n",
        "\n",
        "SELF_EMPLOYED - AUTONOMO (S/N)\n",
        "\n",
        "APPLICANT INCOME - RENDA DO SOLICITANTE\n",
        "\n",
        "COAPPLICANT INCOME - RENDA DOS FAMILIARES\n",
        "\n",
        "LOAN AMOUNT - VALOR DO EMPRESTIMO\n",
        "\n",
        "LOAD_AMOUNT_TERM - TEMPO DO EMPRESTIMO EM MESES\n",
        "\n",
        "CREIDIT_HISTORY - HISTÓRICO DE CRÉDITO\n",
        "\n",
        "PROPERTY_AREA - Urbana, Semi Urbana, Rural\n",
        "\n",
        "LOAN_STATUS - APROVADO S/N\n",
        "\n",
        "```\n",
        "\n",
        "\n"
      ]
    },
    {
      "cell_type": "markdown",
      "metadata": {
        "id": "x4WWWeC4pi1b"
      },
      "source": [
        "**Classificação binária**: \n",
        "\n",
        "teremos que usar os algoritmos que se enquadram na categoria de aprendizado supervisionado."
      ]
    },
    {
      "cell_type": "markdown",
      "metadata": {
        "id": "LfD6Fa2_qaUZ"
      },
      "source": [
        "**Classificar as variáveis:**\n",
        "\n",
        "- numérica ou categórica\n",
        "\n",
        "- **Determinar qual é a nossa variável alvo**\n",
        "\n",
        "- **Selecionar quais colunas queremos importar**\n",
        "\n",
        "no caso, não queremos usar a coluna Loan_Id e a nossa variável alvo é Loan_Status."
      ]
    },
    {
      "cell_type": "markdown",
      "metadata": {
        "id": "lPS4iE3U5N0D"
      },
      "source": [
        ""
      ]
    },
    {
      "cell_type": "markdown",
      "metadata": {
        "id": "pap_knS7rzp9"
      },
      "source": [
        "**Análise Exploratória**\n",
        "\n",
        "avaliar algumas estatísticas básicas das colunas do conjunto de dados"
      ]
    },
    {
      "cell_type": "markdown",
      "metadata": {
        "id": "nHq7Llu3wlzG"
      },
      "source": [
        "**Visualizando os dados**\n",
        "\n",
        "O ideal é que essas visualizações sejam claras e informativas.\n",
        "\n",
        "```\n",
        "DISTRIBUTIONS\n",
        "\n",
        "BOX PLOT\n",
        "\n",
        "SCATTER PLOT\n",
        "\n",
        "```\n",
        "\n"
      ]
    },
    {
      "cell_type": "markdown",
      "metadata": {
        "id": "U30mEx_rz9_J"
      },
      "source": [
        "**Preparação dos dados**\n",
        "\n",
        "testar alguns algoritmos de *Machine Learning*\n",
        "\n",
        "\n",
        "1 - tratar valores ausentes\n",
        "\n",
        "2 - criar variáveis dummy para dados categóricos \n",
        "\n",
        "3 - normalizar as variáveis numéricas.\n",
        "\n",
        "\n",
        "\n"
      ]
    },
    {
      "cell_type": "markdown",
      "metadata": {
        "id": "yvvqrorI0uh6"
      },
      "source": [
        "**pipeline de pre-processamento dos dados**\n",
        "\n",
        "**“Preprocessing”:** permite selecionar as transformações que serão aplicadas nos dados e em qual ordem\n",
        "\n",
        "O nosso pipeline fará as seguintes modificações:\n",
        "\n",
        "- Imputar os valores de dados ausentes usando a média para dados numéricos e a moda para variáveis categóricas;\n",
        "- Normaliza os dados usando a mediana para centralizá-los. Como vimos, o conjunto de dados possui alguns outliers e por isso, escolhemos centralizar os dados com base na mediana, que não é afetada por valores extremos.\n",
        "- Por fim, transformamos as variáveis categóricas em variáveis dummies. Ou seja, variáveis binárias. Para cada valor de cada uma das variáveis categóricas, uma coluna é criada contendo valores apenas de 0 e 1. Um indica que a observação em questão possui o valor da variável. Olhando o conjunto de dados fica mais claro:\n"
      ]
    },
    {
      "cell_type": "code",
      "metadata": {
        "id": "8b1we0OP5Goi"
      },
      "source": [
        ""
      ],
      "execution_count": null,
      "outputs": []
    },
    {
      "cell_type": "markdown",
      "metadata": {
        "id": "gn-fhhw52rWS"
      },
      "source": [
        "**Selecionar as colunas relevantes**\n",
        "\n",
        "`Widget “Select Columns”`"
      ]
    },
    {
      "cell_type": "markdown",
      "metadata": {
        "id": "LwKKkTZX3YF-"
      },
      "source": [
        "**AGORA OS DADOS ESTÃO PRONTOS PARA OS ALGORITMOS DE MACHINE LEARNING**"
      ]
    },
    {
      "cell_type": "markdown",
      "metadata": {
        "id": "fJcq0Oe73i9z"
      },
      "source": [
        "**Testando e avaliando alguns modelos**\n",
        "\n",
        "\n",
        "---\n",
        "\n",
        "\n",
        "\n",
        "**Árvore de Decisão:**  A ideia central é encontrar características no conjunto de dados que sejam discriminantes em relação a variável alvo. O modelo está sempre buscando grupos de dados agrupados com base em características que garantam o maior ganho de informação e pureza nos dados. Quando falamos em ganho de informação, isso significa literalmente encontrar características que nos deem informações para determinar se o empréstimo foi concedido. *Ex. Credit_History*\n",
        "\n",
        "`Widgets Tree e Tree Viewer`\n",
        "\n",
        "\n",
        "---\n",
        "\n",
        "**Floresta Aleatória:** baseia-se nas previsões de vários outros classificadores para gerar uma classificação mais precisa *(ensemble learning)*\n",
        "\n",
        "`Widget Random Forest`\n",
        "\n",
        "\n",
        "\n",
        "\n"
      ]
    },
    {
      "cell_type": "markdown",
      "metadata": {
        "id": "R4rUW1MT6YVP"
      },
      "source": [
        "**Quantificar o quão bom é o nosso modelo**\n",
        "\n",
        "**Acurácia (CA)** --> `widget “Test & Score”`\n",
        "\n",
        "o modelo é treinado em quatro grupos e é validade no quinto\n",
        "\n",
        "`PREPROSESS (preprocessed data ----> data) TEST & SCORE`\n",
        "\n",
        "**Matriz de Confusão** --> `widget “Confusion Matrix”`\n",
        "\n",
        "**visualizar as previsões de cada um dos modelos** --> `widget Predictions`\n",
        "\n"
      ]
    },
    {
      "cell_type": "markdown",
      "metadata": {
        "id": "QsG0Kya6ADHq"
      },
      "source": [
        "**REVISÃO**\n",
        "\n",
        "- Carregamos e visualizamos nosso dados em formato tabular;\n",
        "- Exploramos os dados visualmente usando box-plots, gráficos de frequência e dispersão;\n",
        "- Criamos um pipeline para limpar e transformar os dados para que ficassem prontos para o algoritmo ;\n",
        "- Treinamos não apenas um, mas dois ou mais algoritmos de aprendizado de máquina supervisionado em nosso conjunto de dados;\n",
        "- Avaliamos e comparamos o desempenho de cada um dos modelos;\n",
        "- Visualizamos as previsões de algumas instâncias específicas bem como a probabilidade atribuída para cada classe."
      ]
    }
  ]
}